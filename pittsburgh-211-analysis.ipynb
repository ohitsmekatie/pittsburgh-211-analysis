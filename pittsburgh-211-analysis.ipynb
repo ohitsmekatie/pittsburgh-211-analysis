{
 "cells": [
  {
   "cell_type": "code",
   "execution_count": 1,
   "metadata": {},
   "outputs": [],
   "source": [
    "# import pandas \n",
    "import pandas as pd \n",
    "import matplotlib.pyplot as plt\n",
    "import numpy as np \n",
    "from func import *\n",
    "\n",
    "# read the csv into a usable dataframe, clean data, create variables \n",
    "all_211 = pd.read_csv(\"pgh-211.csv\", low_memory=False)\n",
    "all_211_df = pd.DataFrame(all_211)\n",
    "all_211_df[\"contact_date\"] = pd.to_datetime(all_211_df[\"contact_date\"], format='%Y-%m-%d')"
   ]
  },
  {
   "cell_type": "markdown",
   "metadata": {},
   "source": [
    "# Where should the city of Pittsburgh focus volunteer outreach programs to help prevent hunger issues, utility shut-offs, and housing access issues?\n",
    "\n",
    "## Overview\n",
    "\n",
    "The goal of the analysis is to look at the [WPRDC dataset on 211 calls](https://data.wprdc.org/dataset/211-requests) within Allegheny County, Pennsylvania specifially to try to identify areas where volunteer outreach programs would make the most impact within these three categories:\n",
    "\n",
    "1. Hunger / food scarcity \n",
    "2. Basic utility access \n",
    "3. Housing access (people without homes)\n",
    "\n",
    "> Every day, thousands of people in our region are struggling to put food on the table, keep the lights on, and keep a roof over their head. 2-1-1 is a 24/7 telephone helpline (also available via text and chat) that helps prevent hunger, utility shut-offs and homelessness when people have nowhere else to turn. During each call, our Resource Navigators skillfully identify an individual’s immediate needs and connect them to services and resources that address the full spectrum of needs discovered through a thoughtful and compassionate conversation.\n",
    "\n"
   ]
  },
  {
   "cell_type": "markdown",
   "metadata": {},
   "source": [
    "## First, we'll start with an overview of the available data"
   ]
  },
  {
   "cell_type": "code",
   "execution_count": 2,
   "metadata": {},
   "outputs": [
    {
     "data": {
      "text/html": [
       "<div>\n",
       "<style scoped>\n",
       "    .dataframe tbody tr th:only-of-type {\n",
       "        vertical-align: middle;\n",
       "    }\n",
       "\n",
       "    .dataframe tbody tr th {\n",
       "        vertical-align: top;\n",
       "    }\n",
       "\n",
       "    .dataframe thead th {\n",
       "        text-align: right;\n",
       "    }\n",
       "</style>\n",
       "<table border=\"1\" class=\"dataframe\">\n",
       "  <thead>\n",
       "    <tr style=\"text-align: right;\">\n",
       "      <th></th>\n",
       "      <th>contact_date</th>\n",
       "      <th>gender</th>\n",
       "      <th>age_range</th>\n",
       "      <th>zip_code</th>\n",
       "      <th>county</th>\n",
       "      <th>state</th>\n",
       "      <th>needs_category</th>\n",
       "      <th>needs_code</th>\n",
       "      <th>level_1_classification</th>\n",
       "      <th>level_2_classification</th>\n",
       "      <th>needs_met</th>\n",
       "    </tr>\n",
       "  </thead>\n",
       "  <tbody>\n",
       "    <tr>\n",
       "      <th>0</th>\n",
       "      <td>2020-01-01</td>\n",
       "      <td>NaN</td>\n",
       "      <td>NaN</td>\n",
       "      <td>15212</td>\n",
       "      <td>Allegheny County</td>\n",
       "      <td>Pennsylvania</td>\n",
       "      <td>Food Pantries</td>\n",
       "      <td>BD-1800.2000</td>\n",
       "      <td>Basic Needs</td>\n",
       "      <td>Food</td>\n",
       "      <td>t</td>\n",
       "    </tr>\n",
       "    <tr>\n",
       "      <th>1</th>\n",
       "      <td>2020-01-01</td>\n",
       "      <td>F</td>\n",
       "      <td>65 and over</td>\n",
       "      <td>15221</td>\n",
       "      <td>Allegheny County</td>\n",
       "      <td>Pennsylvania</td>\n",
       "      <td>Food Pantries</td>\n",
       "      <td>BD-1800.2000</td>\n",
       "      <td>Basic Needs</td>\n",
       "      <td>Food</td>\n",
       "      <td>t</td>\n",
       "    </tr>\n",
       "    <tr>\n",
       "      <th>2</th>\n",
       "      <td>2020-01-01</td>\n",
       "      <td>F</td>\n",
       "      <td>NaN</td>\n",
       "      <td>15226</td>\n",
       "      <td>Allegheny County</td>\n",
       "      <td>Pennsylvania</td>\n",
       "      <td>Food Pantries</td>\n",
       "      <td>BD-1800.2000</td>\n",
       "      <td>Basic Needs</td>\n",
       "      <td>Food</td>\n",
       "      <td>t</td>\n",
       "    </tr>\n",
       "  </tbody>\n",
       "</table>\n",
       "</div>"
      ],
      "text/plain": [
       "  contact_date gender    age_range zip_code            county         state  \\\n",
       "0   2020-01-01    NaN          NaN    15212  Allegheny County  Pennsylvania   \n",
       "1   2020-01-01      F  65 and over    15221  Allegheny County  Pennsylvania   \n",
       "2   2020-01-01      F          NaN    15226  Allegheny County  Pennsylvania   \n",
       "\n",
       "  needs_category    needs_code level_1_classification level_2_classification  \\\n",
       "0  Food Pantries  BD-1800.2000            Basic Needs                   Food   \n",
       "1  Food Pantries  BD-1800.2000            Basic Needs                   Food   \n",
       "2  Food Pantries  BD-1800.2000            Basic Needs                   Food   \n",
       "\n",
       "  needs_met  \n",
       "0         t  \n",
       "1         t  \n",
       "2         t  "
      ]
     },
     "execution_count": 2,
     "metadata": {},
     "output_type": "execute_result"
    }
   ],
   "source": [
    "all_211_df.head(3)"
   ]
  },
  {
   "cell_type": "markdown",
   "metadata": {},
   "source": [
    "The combination of needs & classifications are used by 211 operators to help match callers with the outreach service they need depending on their specific problem. You can read more about the 211 request line at [this website](https://www.211.org/about-us/our-impact).\n",
    "\n",
    "There are **1,321** categories of needs. Some examples are \"Food pantries\", \"Soup kitchens\", \"Elder law\", and \"Smoke alarms\". Needs are the top level classification and represent a category\n",
    "\n",
    "\n",
    "For this analysis i'll use the `needs category` field and slice it by gender, age range, when the request was created, the zipcode of the area that the request was made from, and if the need was met and hopefully be able to answer the question - **Which areas are getting proper help with their needs and which areas might need more or better outreach programs?** Being able to identify trends in areas means that volunteer programs can proactively do outreach to help folks before they experience a pressing need. \n"
   ]
  },
  {
   "cell_type": "markdown",
   "metadata": {},
   "source": [
    "## How many requests are we working with?\n",
    "\n",
    "For this analysis I only want to count requests from Allegheny County, Pennsylvania. There are **156,804** total 211 requests in the WPRDC dataset and **92,300** were made from Allegheny County, Pennsylvania. \n",
    "\n",
    "Going forward I just want to analyze these results so i'm going to create a new dataframe with only rows that have `county == \"Allegheny County`."
   ]
  },
  {
   "cell_type": "code",
   "execution_count": 3,
   "metadata": {},
   "outputs": [],
   "source": [
    "allegheny_df = all_211_df[all_211_df[\"county\"] == \"Allegheny County\"]"
   ]
  },
  {
   "cell_type": "markdown",
   "metadata": {},
   "source": [
    "## What are the top 10 requests (all time)?\n",
    "\n",
    "\n",
    "The top request to date is **Covid-19 Control** with a total of **14,951 requests**, but if you include the third result of **COVID-19 Immunization Clinics** the total of Covid related requests is actually **19,737**. \n",
    "\n",
    "Out of the total amount of top 10 requests (55,149) Covid related requests make up **~36%**. The earliest date in this dataset for a request is January 1st, 2020 so it's hard to say what the requests trends might be in a non-pandemic world, but this is something that can be looked at in the future. "
   ]
  },
  {
   "cell_type": "code",
   "execution_count": 4,
   "metadata": {},
   "outputs": [
    {
     "data": {
      "image/png": "[encoded data removed]",
      "text/plain": [
       "<Figure size 936x360 with 1 Axes>"
      ]
     },
     "metadata": {
      "needs_background": "light"
     },
     "output_type": "display_data"
    }
   ],
   "source": [
    "top_10_chart(allegheny_df)"
   ]
  },
  {
   "cell_type": "markdown",
   "metadata": {},
   "source": [
    "# Requests by month"
   ]
  },
  {
   "cell_type": "code",
   "execution_count": 5,
   "metadata": {},
   "outputs": [
    {
     "data": {
      "image/png": "[encoded data removed]",
      "text/plain": [
       "<Figure size 936x360 with 1 Axes>"
      ]
     },
     "metadata": {
      "needs_background": "light"
     },
     "output_type": "display_data"
    }
   ],
   "source": [
    "show_month_count_chart(allegheny_df)"
   ]
  },
  {
   "cell_type": "markdown",
   "metadata": {},
   "source": [
    "March and April with ~28k combined requests. This makes sense given that the uptick in awareness around Covid-19 cases in the United States began in March of 2020 and many folks were looking for help. "
   ]
  },
  {
   "cell_type": "markdown",
   "metadata": {},
   "source": [
    "## Count of requests by zipcode \n",
    "\n",
    "The following graph shows the amount of needs requests grouped by Allegheny County (scroll to see all). [Here](https://www.zillow.com/browse/homes/pa/allegheny-county/) is a full list of zipcodes associated with areas, but for now we'll look at the top 20 zipcodes that are submitting requests. \n"
   ]
  },
  {
   "cell_type": "code",
   "execution_count": 6,
   "metadata": {},
   "outputs": [
    {
     "data": {
      "image/png": "[encoded data removed]",
      "text/plain": [
       "<Figure size 1800x504 with 1 Axes>"
      ]
     },
     "metadata": {
      "needs_background": "light"
     },
     "output_type": "display_data"
    }
   ],
   "source": [
    "show_zipcode_counts(allegheny_df)"
   ]
  },
  {
   "cell_type": "markdown",
   "metadata": {},
   "source": [
    "The Mount Oliver/Baldwin neighborhood (15210) generated the most requests followed by Brighton Heights. How does the number of requests related to neighborhood population? The population of Mount Oliver/Baldwin combined as of 2019 was 22.3k. The population in Brighton Heights as of 2019 was ~27k.\n",
    "\n",
    "These are pretty densely populated areas of the city which could lead to higher requests. They are also known to be lower income areas. This will be looked at in a followup analysis."
   ]
  },
  {
   "cell_type": "markdown",
   "metadata": {},
   "source": [
    "## Counts by age "
   ]
  },
  {
   "cell_type": "code",
   "execution_count": 7,
   "metadata": {},
   "outputs": [
    {
     "data": {
      "image/png": "[encoded data removed]",
      "text/plain": [
       "<Figure size 1800x504 with 1 Axes>"
      ]
     },
     "metadata": {
      "needs_background": "light"
     },
     "output_type": "display_data"
    }
   ],
   "source": [
    "show_age_counts(allegheny_df)"
   ]
  },
  {
   "cell_type": "markdown",
   "metadata": {},
   "source": [
    "Requests made by residents within the age range of 35 and 64 make up most of the requests in Allegheny County. "
   ]
  },
  {
   "cell_type": "markdown",
   "metadata": {},
   "source": [
    "## Age grouping compared to top 3 requests"
   ]
  },
  {
   "cell_type": "code",
   "execution_count": 16,
   "metadata": {},
   "outputs": [
    {
     "data": {
      "text/html": [
       "<div>\n",
       "<style scoped>\n",
       "    .dataframe tbody tr th:only-of-type {\n",
       "        vertical-align: middle;\n",
       "    }\n",
       "\n",
       "    .dataframe tbody tr th {\n",
       "        vertical-align: top;\n",
       "    }\n",
       "\n",
       "    .dataframe thead th {\n",
       "        text-align: right;\n",
       "    }\n",
       "</style>\n",
       "<table border=\"1\" class=\"dataframe\">\n",
       "  <thead>\n",
       "    <tr style=\"text-align: right;\">\n",
       "      <th></th>\n",
       "      <th>age_range</th>\n",
       "      <th>needs_category</th>\n",
       "      <th>number_of_requests</th>\n",
       "    </tr>\n",
       "  </thead>\n",
       "  <tbody>\n",
       "    <tr>\n",
       "      <th>0</th>\n",
       "      <td>0 to 5</td>\n",
       "      <td>Covid-19 Control</td>\n",
       "      <td>2</td>\n",
       "    </tr>\n",
       "    <tr>\n",
       "      <th>1</th>\n",
       "      <td>0 to 5</td>\n",
       "      <td>Rent Payment Assistance</td>\n",
       "      <td>2</td>\n",
       "    </tr>\n",
       "    <tr>\n",
       "      <th>2</th>\n",
       "      <td>18 to 24</td>\n",
       "      <td>COVID-19 Immunization Clinics</td>\n",
       "      <td>113</td>\n",
       "    </tr>\n",
       "    <tr>\n",
       "      <th>3</th>\n",
       "      <td>18 to 24</td>\n",
       "      <td>Covid-19 Control</td>\n",
       "      <td>343</td>\n",
       "    </tr>\n",
       "    <tr>\n",
       "      <th>4</th>\n",
       "      <td>18 to 24</td>\n",
       "      <td>Rent Payment Assistance</td>\n",
       "      <td>642</td>\n",
       "    </tr>\n",
       "    <tr>\n",
       "      <th>5</th>\n",
       "      <td>25 to 44</td>\n",
       "      <td>COVID-19 Immunization Clinics</td>\n",
       "      <td>212</td>\n",
       "    </tr>\n",
       "    <tr>\n",
       "      <th>6</th>\n",
       "      <td>25 to 44</td>\n",
       "      <td>Covid-19 Control</td>\n",
       "      <td>1737</td>\n",
       "    </tr>\n",
       "    <tr>\n",
       "      <th>7</th>\n",
       "      <td>25 to 44</td>\n",
       "      <td>Rent Payment Assistance</td>\n",
       "      <td>3612</td>\n",
       "    </tr>\n",
       "    <tr>\n",
       "      <th>8</th>\n",
       "      <td>45 to 64</td>\n",
       "      <td>COVID-19 Immunization Clinics</td>\n",
       "      <td>726</td>\n",
       "    </tr>\n",
       "    <tr>\n",
       "      <th>9</th>\n",
       "      <td>45 to 64</td>\n",
       "      <td>Covid-19 Control</td>\n",
       "      <td>2020</td>\n",
       "    </tr>\n",
       "    <tr>\n",
       "      <th>10</th>\n",
       "      <td>45 to 64</td>\n",
       "      <td>Rent Payment Assistance</td>\n",
       "      <td>2992</td>\n",
       "    </tr>\n",
       "    <tr>\n",
       "      <th>11</th>\n",
       "      <td>6 to 17</td>\n",
       "      <td>COVID-19 Immunization Clinics</td>\n",
       "      <td>26</td>\n",
       "    </tr>\n",
       "    <tr>\n",
       "      <th>12</th>\n",
       "      <td>6 to 17</td>\n",
       "      <td>Covid-19 Control</td>\n",
       "      <td>59</td>\n",
       "    </tr>\n",
       "    <tr>\n",
       "      <th>13</th>\n",
       "      <td>6 to 17</td>\n",
       "      <td>Rent Payment Assistance</td>\n",
       "      <td>1</td>\n",
       "    </tr>\n",
       "    <tr>\n",
       "      <th>14</th>\n",
       "      <td>65 and over</td>\n",
       "      <td>COVID-19 Immunization Clinics</td>\n",
       "      <td>1921</td>\n",
       "    </tr>\n",
       "    <tr>\n",
       "      <th>15</th>\n",
       "      <td>65 and over</td>\n",
       "      <td>Covid-19 Control</td>\n",
       "      <td>2431</td>\n",
       "    </tr>\n",
       "    <tr>\n",
       "      <th>16</th>\n",
       "      <td>65 and over</td>\n",
       "      <td>Rent Payment Assistance</td>\n",
       "      <td>403</td>\n",
       "    </tr>\n",
       "    <tr>\n",
       "      <th>17</th>\n",
       "      <td>No Age Given</td>\n",
       "      <td>COVID-19 Immunization Clinics</td>\n",
       "      <td>1788</td>\n",
       "    </tr>\n",
       "    <tr>\n",
       "      <th>18</th>\n",
       "      <td>No Age Given</td>\n",
       "      <td>Covid-19 Control</td>\n",
       "      <td>8359</td>\n",
       "    </tr>\n",
       "    <tr>\n",
       "      <th>19</th>\n",
       "      <td>No Age Given</td>\n",
       "      <td>Rent Payment Assistance</td>\n",
       "      <td>2139</td>\n",
       "    </tr>\n",
       "  </tbody>\n",
       "</table>\n",
       "</div>"
      ],
      "text/plain": [
       "       age_range                 needs_category  number_of_requests\n",
       "0         0 to 5               Covid-19 Control                   2\n",
       "1         0 to 5        Rent Payment Assistance                   2\n",
       "2       18 to 24  COVID-19 Immunization Clinics                 113\n",
       "3       18 to 24               Covid-19 Control                 343\n",
       "4       18 to 24        Rent Payment Assistance                 642\n",
       "5       25 to 44  COVID-19 Immunization Clinics                 212\n",
       "6       25 to 44               Covid-19 Control                1737\n",
       "7       25 to 44        Rent Payment Assistance                3612\n",
       "8       45 to 64  COVID-19 Immunization Clinics                 726\n",
       "9       45 to 64               Covid-19 Control                2020\n",
       "10      45 to 64        Rent Payment Assistance                2992\n",
       "11       6 to 17  COVID-19 Immunization Clinics                  26\n",
       "12       6 to 17               Covid-19 Control                  59\n",
       "13       6 to 17        Rent Payment Assistance                   1\n",
       "14   65 and over  COVID-19 Immunization Clinics                1921\n",
       "15   65 and over               Covid-19 Control                2431\n",
       "16   65 and over        Rent Payment Assistance                 403\n",
       "17  No Age Given  COVID-19 Immunization Clinics                1788\n",
       "18  No Age Given               Covid-19 Control                8359\n",
       "19  No Age Given        Rent Payment Assistance                2139"
      ]
     },
     "execution_count": 16,
     "metadata": {},
     "output_type": "execute_result"
    }
   ],
   "source": [
    "new_df = allegheny_df[[\"age_range\",\"needs_category\"]]\n",
    "new_df = new_df.fillna(\"No Age Given\")\n",
    "\n",
    "top_3_list = [\"Covid-19 Control\", \n",
    "               \"COVID-19 Immunization Clinics\", \n",
    "               \"Rent Payment Assistance\"\n",
    "              ]\n",
    "\n",
    "top_3_requests_with_age = new_df[new_df[\"needs_category\"].isin(top_3_list)]\n",
    "\n",
    "\n",
    "cat_count_by_age = top_3_requests_with_age.groupby(['age_range', 'needs_category']).agg({'needs_category': ['count']})\n",
    "cat_count_by_age.columns = ['number_of_requests']\n",
    "cat_count_by_age = cat_count_by_age.reset_index()\n",
    "\n",
    "cat_count_by_age"
   ]
  },
  {
   "cell_type": "markdown",
   "metadata": {},
   "source": [
    "## Conclusion\n",
    "\n",
    "Looking at neighborhood, request type, and age data Allegheny County should focus outreach efforts in the Mt. Oliver, Baldwin, and Brighton Heights neighborhoods and overall the city should increase awareness on COVID-19 and rent assitance programs to it's citzens as those are the highest request types. \n",
    "\n",
    "**Next steps:**\n",
    "* Look into population density and requests\n",
    "* Look into income and requests\n"
   ]
  }
 ],
 "metadata": {
  "kernelspec": {
   "display_name": "Python 3",
   "language": "python",
   "name": "python3"
  },
  "language_info": {
   "codemirror_mode": {
    "name": "ipython",
    "version": 3
   },
   "file_extension": ".py",
   "mimetype": "text/x-python",
   "name": "python",
   "nbconvert_exporter": "python",
   "pygments_lexer": "ipython3",
   "version": "3.8.8"
  }
 },
 "nbformat": 4,
 "nbformat_minor": 4
}
