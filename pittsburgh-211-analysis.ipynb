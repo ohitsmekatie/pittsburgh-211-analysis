{
 "cells": [
  {
   "cell_type": "code",
   "execution_count": 60,
   "metadata": {},
   "outputs": [],
   "source": [
    "# import pandas \n",
    "import pandas as pd \n",
    "# read the csv into a usable dataframe \n",
    "all_211 = pd.read_csv(\"pgh-211.csv\", low_memory=False)\n",
    "all_211_df = pd.DataFrame(all_211)"
   ]
  },
  {
   "cell_type": "markdown",
   "metadata": {},
   "source": [
    "# Where should the city of Pittsburgh focus volunteer outreach programs to help prevent hunger issues, utility shut-offs, and housing access issues?\n",
    "\n",
    "## Overview\n",
    "\n",
    "The goal of the analysis is to look at the [WPRDC dataset on 211 calls](https://data.wprdc.org/dataset/211-requests) within Allegheny County, Pennsylvania specifially to try to identify areas where volunteer outreach programs would make the most impact within these three categories:\n",
    "\n",
    "1. Hunger / food scarcity \n",
    "2. Basic utility access \n",
    "3. Housing access (people without homes)\n",
    "\n",
    "> Every day, thousands of people in our region are struggling to put food on the table, keep the lights on, and keep a roof over their head. 2-1-1 is a 24/7 telephone helpline (also available via text and chat) that helps prevent hunger, utility shut-offs and homelessness when people have nowhere else to turn. During each call, our Resource Navigators skillfully identify an individual’s immediate needs and connect them to services and resources that address the full spectrum of needs discovered through a thoughtful and compassionate conversation."
   ]
  },
  {
   "cell_type": "markdown",
   "metadata": {},
   "source": [
    "## First, we'll start with an overview of the available data"
   ]
  },
  {
   "cell_type": "code",
   "execution_count": 61,
   "metadata": {},
   "outputs": [
    {
     "data": {
      "text/html": [
       "<div>\n",
       "<style scoped>\n",
       "    .dataframe tbody tr th:only-of-type {\n",
       "        vertical-align: middle;\n",
       "    }\n",
       "\n",
       "    .dataframe tbody tr th {\n",
       "        vertical-align: top;\n",
       "    }\n",
       "\n",
       "    .dataframe thead th {\n",
       "        text-align: right;\n",
       "    }\n",
       "</style>\n",
       "<table border=\"1\" class=\"dataframe\">\n",
       "  <thead>\n",
       "    <tr style=\"text-align: right;\">\n",
       "      <th></th>\n",
       "      <th>contact_date</th>\n",
       "      <th>gender</th>\n",
       "      <th>age_range</th>\n",
       "      <th>zip_code</th>\n",
       "      <th>county</th>\n",
       "      <th>state</th>\n",
       "      <th>needs_category</th>\n",
       "      <th>needs_code</th>\n",
       "      <th>level_1_classification</th>\n",
       "      <th>level_2_classification</th>\n",
       "      <th>needs_met</th>\n",
       "    </tr>\n",
       "  </thead>\n",
       "  <tbody>\n",
       "    <tr>\n",
       "      <th>0</th>\n",
       "      <td>2020-01-01</td>\n",
       "      <td>NaN</td>\n",
       "      <td>NaN</td>\n",
       "      <td>15212</td>\n",
       "      <td>Allegheny County</td>\n",
       "      <td>Pennsylvania</td>\n",
       "      <td>Food Pantries</td>\n",
       "      <td>BD-1800.2000</td>\n",
       "      <td>Basic Needs</td>\n",
       "      <td>Food</td>\n",
       "      <td>t</td>\n",
       "    </tr>\n",
       "    <tr>\n",
       "      <th>1</th>\n",
       "      <td>2020-01-01</td>\n",
       "      <td>F</td>\n",
       "      <td>65 and over</td>\n",
       "      <td>15221</td>\n",
       "      <td>Allegheny County</td>\n",
       "      <td>Pennsylvania</td>\n",
       "      <td>Food Pantries</td>\n",
       "      <td>BD-1800.2000</td>\n",
       "      <td>Basic Needs</td>\n",
       "      <td>Food</td>\n",
       "      <td>t</td>\n",
       "    </tr>\n",
       "    <tr>\n",
       "      <th>2</th>\n",
       "      <td>2020-01-01</td>\n",
       "      <td>F</td>\n",
       "      <td>NaN</td>\n",
       "      <td>15226</td>\n",
       "      <td>Allegheny County</td>\n",
       "      <td>Pennsylvania</td>\n",
       "      <td>Food Pantries</td>\n",
       "      <td>BD-1800.2000</td>\n",
       "      <td>Basic Needs</td>\n",
       "      <td>Food</td>\n",
       "      <td>t</td>\n",
       "    </tr>\n",
       "  </tbody>\n",
       "</table>\n",
       "</div>"
      ],
      "text/plain": [
       "  contact_date gender    age_range zip_code            county         state  \\\n",
       "0   2020-01-01    NaN          NaN    15212  Allegheny County  Pennsylvania   \n",
       "1   2020-01-01      F  65 and over    15221  Allegheny County  Pennsylvania   \n",
       "2   2020-01-01      F          NaN    15226  Allegheny County  Pennsylvania   \n",
       "\n",
       "  needs_category    needs_code level_1_classification level_2_classification  \\\n",
       "0  Food Pantries  BD-1800.2000            Basic Needs                   Food   \n",
       "1  Food Pantries  BD-1800.2000            Basic Needs                   Food   \n",
       "2  Food Pantries  BD-1800.2000            Basic Needs                   Food   \n",
       "\n",
       "  needs_met  \n",
       "0         t  \n",
       "1         t  \n",
       "2         t  "
      ]
     },
     "execution_count": 61,
     "metadata": {},
     "output_type": "execute_result"
    }
   ],
   "source": [
    "all_211_df.head(3)"
   ]
  },
  {
   "cell_type": "code",
   "execution_count": 62,
   "metadata": {},
   "outputs": [],
   "source": [
    "# Breaking down columns to get an idea of the unique values in each \n",
    "\n",
    "needs_values = all_211_df.needs_category.unique()\n",
    "level_1_values = level_1 = all_211_df.level_1_classification.unique()\n",
    "level_2_values = level_1 = all_211_df.level_2_classification.unique()\n",
    "\n",
    "num_needs = len(needs_values)\n",
    "# prints the unique values a given column \n",
    "# for value in values:\n",
    "#     print(value)\n",
    "\n",
    "# for value in level_1_values:\n",
    "#     print(value)\n",
    "\n",
    "num_level = len(level_2_values)\n",
    "# for value in level_2_values:\n",
    "#     print(value)\n"
   ]
  },
  {
   "cell_type": "markdown",
   "metadata": {},
   "source": [
    "## Unique values in needs and classification columns \n",
    "\n",
    "The combination of needs & classifications is used by 211 operators to help match callers with the outreach service they need depending on their specific problem. You can read more about the 211 request line at [this website](https://www.211.org/about-us/our-impact).\n",
    "\n",
    "### Needs\n",
    "\n",
    "There are 1,321 categories of needs.  Here are some examples:\n",
    "\n",
    "* Food pantries\n",
    "* Soup kitchens\n",
    "* Community Shelters\n",
    "* Adult Protective Services\n",
    "* Mortgage Payment Assistance\n",
    "* Furniture\n",
    "* Ex-Offender Reentry Programs\n",
    "* Elder Law\n",
    "* Smoke Alarms\n",
    "\n",
    "\n",
    "### Classifications \n",
    "\n",
    "### Level 1 \n",
    "\n",
    "* Basic Needs\n",
    "* Consumer Services\n",
    "* Criminal Justice and Legal Services\n",
    "* Health Care\n",
    "* Income Support and Employment\n",
    "* Individual and Family Life\n",
    "* Mental Health and Substance Use Disorder Services\n",
    "* Organizational/Community/International Services\n",
    "* Environment and Public Health/Safety\n",
    "* Education\n",
    "\n",
    "### Level 2 \n",
    "\n",
    "There are 64 level 2 classifications. Level 2 classifications go one level deeper and are meant to be paired with the higher level 1 classifications to get more insight into the request. Here are some examples:\n",
    "* Food\n",
    "* Housing/Shelter\n",
    "* Material Goods\n",
    "* Transportation\n",
    "* Utilities\n",
    "* Consumer Assistance and Protection\n",
    "* Legal Services\n",
    "* Health Supportive Services\n",
    "* Public Assistance Programs\n",
    "* Counseling Settings\n",
    "\n",
    "\n",
    "For this analysis i'll look into the the above fields and slice them by gender, age range, when the request was created, the zipcode of the area that the request was made from, and if the need was met and hopefully be able to answer the question - **Which areas need different outreach focus going forward?**"
   ]
  },
  {
   "cell_type": "markdown",
   "metadata": {},
   "source": [
    "## How many requests are we working with?\n",
    "\n",
    "For this analysis I only want to count requests from Allegheny County, Pennsylvania. There are **156,804** total 211 requests in the WPRDC dataset and **92,300** were made from Allegheny County, Pennsylvania.\n",
    "\n",
    "Going forward I just want to analyze these results so i'm going to create a new dataframe with just those."
   ]
  },
  {
   "cell_type": "code",
   "execution_count": 65,
   "metadata": {},
   "outputs": [],
   "source": [
    "dates_locations = all_211_df[[\"contact_date\",\"county\", \"state\"]]\n",
    "\n",
    "allegheny_counts = 0\n",
    "non_allegheny_counts = 0\n",
    "\n",
    "for county in dates_locations[\"county\"]:\n",
    "    if county == \"Allegheny County\":\n",
    "        allegheny_counts += 1\n",
    "    else:\n",
    "        non_allegheny_counts += 1\n",
    "        \n",
    "# print(allegheny_counts)\n",
    "# print(non_allegheny_counts)\n",
    "\n",
    "county_filter = all_211_df[\"county\"] == \"Allegheny County\"\n",
    "all_211_df.where(county_filter)\n",
    "\n",
    "# drops rows that have all null values and saves it to a new df of only allegheny county requests\n",
    "ac_211_df = all_211_df.dropna(thresh=5)"
   ]
  },
  {
   "cell_type": "markdown",
   "metadata": {},
   "source": [
    "## Types of requests "
   ]
  },
  {
   "cell_type": "code",
   "execution_count": 80,
   "metadata": {},
   "outputs": [
    {
     "ename": "TypeError",
     "evalue": "cannot unpack non-iterable int object",
     "output_type": "error",
     "traceback": [
      "\u001b[0;31m---------------------------------------------------------------------------\u001b[0m",
      "\u001b[0;31mTypeError\u001b[0m                                 Traceback (most recent call last)",
      "\u001b[0;32m<ipython-input-80-558ebdbf91f4>\u001b[0m in \u001b[0;36m<module>\u001b[0;34m\u001b[0m\n\u001b[1;32m      1\u001b[0m \u001b[0mcounts\u001b[0m \u001b[0;34m=\u001b[0m \u001b[0mac_211_df\u001b[0m\u001b[0;34m[\u001b[0m\u001b[0;34m\"needs_category\"\u001b[0m\u001b[0;34m]\u001b[0m\u001b[0;34m.\u001b[0m\u001b[0mvalue_counts\u001b[0m\u001b[0;34m(\u001b[0m\u001b[0mdropna\u001b[0m \u001b[0;34m=\u001b[0m \u001b[0;32mTrue\u001b[0m\u001b[0;34m)\u001b[0m\u001b[0;34m\u001b[0m\u001b[0;34m\u001b[0m\u001b[0m\n\u001b[1;32m      2\u001b[0m \u001b[0;34m\u001b[0m\u001b[0m\n\u001b[0;32m----> 3\u001b[0;31m \u001b[0;32mfor\u001b[0m \u001b[0mcounty\u001b[0m\u001b[0;34m,\u001b[0m\u001b[0mcount\u001b[0m \u001b[0;32min\u001b[0m \u001b[0mcounts\u001b[0m\u001b[0;34m:\u001b[0m\u001b[0;34m\u001b[0m\u001b[0;34m\u001b[0m\u001b[0m\n\u001b[0m\u001b[1;32m      4\u001b[0m     \u001b[0;32mif\u001b[0m \u001b[0mcount\u001b[0m \u001b[0;34m>\u001b[0m \u001b[0;36m50\u001b[0m\u001b[0;34m:\u001b[0m\u001b[0;34m\u001b[0m\u001b[0;34m\u001b[0m\u001b[0m\n\u001b[1;32m      5\u001b[0m         \u001b[0mprint\u001b[0m\u001b[0;34m(\u001b[0m\u001b[0mcounty\u001b[0m\u001b[0;34m,\u001b[0m \u001b[0mcount\u001b[0m\u001b[0;34m)\u001b[0m\u001b[0;34m\u001b[0m\u001b[0;34m\u001b[0m\u001b[0m\n",
      "\u001b[0;31mTypeError\u001b[0m: cannot unpack non-iterable int object"
     ]
    }
   ],
   "source": [
    "counts = ac_211_df[\"needs_category\"].value_counts(dropna = True)\n",
    "\n",
    "\n"
   ]
  },
  {
   "cell_type": "code",
   "execution_count": null,
   "metadata": {},
   "outputs": [],
   "source": []
  }
 ],
 "metadata": {
  "kernelspec": {
   "display_name": "Python 3",
   "language": "python",
   "name": "python3"
  },
  "language_info": {
   "codemirror_mode": {
    "name": "ipython",
    "version": 3
   },
   "file_extension": ".py",
   "mimetype": "text/x-python",
   "name": "python",
   "nbconvert_exporter": "python",
   "pygments_lexer": "ipython3",
   "version": "3.8.3"
  }
 },
 "nbformat": 4,
 "nbformat_minor": 4
}
