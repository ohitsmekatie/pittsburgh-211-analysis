{
 "cells": [
  {
   "cell_type": "code",
   "execution_count": 27,
   "metadata": {},
   "outputs": [],
   "source": [
    "# import pandas \n",
    "import pandas as pd \n",
    "import matplotlib.pyplot as plt\n",
    "import numpy as np \n",
    "from func import *\n",
    "\n",
    "# read the csv into a usable dataframe, clean data, create variables \n",
    "all_211 = pd.read_csv(\"pgh-211.csv\", low_memory=False)\n",
    "all_211_df = pd.DataFrame(all_211)\n",
    "all_211_df[\"contact_date\"] = pd.to_datetime(all_211_df[\"contact_date\"], format='%Y-%m-%d')"
   ]
  },
  {
   "cell_type": "markdown",
   "metadata": {},
   "source": [
    "# Where should the city of Pittsburgh focus volunteer outreach programs to help prevent hunger issues, utility shut-offs, and housing access issues?\n",
    "\n",
    "## Overview\n",
    "\n",
    "The goal of the analysis is to look at the [WPRDC dataset on 211 calls](https://data.wprdc.org/dataset/211-requests) within Allegheny County, Pennsylvania specifially to try to identify areas where volunteer outreach programs would make the most impact within these three categories:\n",
    "\n",
    "1. Hunger / food scarcity \n",
    "2. Basic utility access \n",
    "3. Housing access (people without homes)\n",
    "\n",
    "> Every day, thousands of people in our region are struggling to put food on the table, keep the lights on, and keep a roof over their head. 2-1-1 is a 24/7 telephone helpline (also available via text and chat) that helps prevent hunger, utility shut-offs and homelessness when people have nowhere else to turn. During each call, our Resource Navigators skillfully identify an individual’s immediate needs and connect them to services and resources that address the full spectrum of needs discovered through a thoughtful and compassionate conversation.\n",
    "\n"
   ]
  },
  {
   "cell_type": "markdown",
   "metadata": {},
   "source": [
    "## First, we'll start with an overview of the available data"
   ]
  },
  {
   "cell_type": "code",
   "execution_count": 28,
   "metadata": {},
   "outputs": [
    {
     "data": {
      "text/html": [
       "<div>\n",
       "<style scoped>\n",
       "    .dataframe tbody tr th:only-of-type {\n",
       "        vertical-align: middle;\n",
       "    }\n",
       "\n",
       "    .dataframe tbody tr th {\n",
       "        vertical-align: top;\n",
       "    }\n",
       "\n",
       "    .dataframe thead th {\n",
       "        text-align: right;\n",
       "    }\n",
       "</style>\n",
       "<table border=\"1\" class=\"dataframe\">\n",
       "  <thead>\n",
       "    <tr style=\"text-align: right;\">\n",
       "      <th></th>\n",
       "      <th>contact_date</th>\n",
       "      <th>gender</th>\n",
       "      <th>age_range</th>\n",
       "      <th>zip_code</th>\n",
       "      <th>county</th>\n",
       "      <th>state</th>\n",
       "      <th>needs_category</th>\n",
       "      <th>needs_code</th>\n",
       "      <th>level_1_classification</th>\n",
       "      <th>level_2_classification</th>\n",
       "      <th>needs_met</th>\n",
       "    </tr>\n",
       "  </thead>\n",
       "  <tbody>\n",
       "    <tr>\n",
       "      <th>0</th>\n",
       "      <td>2020-01-01</td>\n",
       "      <td>NaN</td>\n",
       "      <td>NaN</td>\n",
       "      <td>15212</td>\n",
       "      <td>Allegheny County</td>\n",
       "      <td>Pennsylvania</td>\n",
       "      <td>Food Pantries</td>\n",
       "      <td>BD-1800.2000</td>\n",
       "      <td>Basic Needs</td>\n",
       "      <td>Food</td>\n",
       "      <td>t</td>\n",
       "    </tr>\n",
       "    <tr>\n",
       "      <th>1</th>\n",
       "      <td>2020-01-01</td>\n",
       "      <td>F</td>\n",
       "      <td>65 and over</td>\n",
       "      <td>15221</td>\n",
       "      <td>Allegheny County</td>\n",
       "      <td>Pennsylvania</td>\n",
       "      <td>Food Pantries</td>\n",
       "      <td>BD-1800.2000</td>\n",
       "      <td>Basic Needs</td>\n",
       "      <td>Food</td>\n",
       "      <td>t</td>\n",
       "    </tr>\n",
       "    <tr>\n",
       "      <th>2</th>\n",
       "      <td>2020-01-01</td>\n",
       "      <td>F</td>\n",
       "      <td>NaN</td>\n",
       "      <td>15226</td>\n",
       "      <td>Allegheny County</td>\n",
       "      <td>Pennsylvania</td>\n",
       "      <td>Food Pantries</td>\n",
       "      <td>BD-1800.2000</td>\n",
       "      <td>Basic Needs</td>\n",
       "      <td>Food</td>\n",
       "      <td>t</td>\n",
       "    </tr>\n",
       "  </tbody>\n",
       "</table>\n",
       "</div>"
      ],
      "text/plain": [
       "  contact_date gender    age_range zip_code            county         state  \\\n",
       "0   2020-01-01    NaN          NaN    15212  Allegheny County  Pennsylvania   \n",
       "1   2020-01-01      F  65 and over    15221  Allegheny County  Pennsylvania   \n",
       "2   2020-01-01      F          NaN    15226  Allegheny County  Pennsylvania   \n",
       "\n",
       "  needs_category    needs_code level_1_classification level_2_classification  \\\n",
       "0  Food Pantries  BD-1800.2000            Basic Needs                   Food   \n",
       "1  Food Pantries  BD-1800.2000            Basic Needs                   Food   \n",
       "2  Food Pantries  BD-1800.2000            Basic Needs                   Food   \n",
       "\n",
       "  needs_met  \n",
       "0         t  \n",
       "1         t  \n",
       "2         t  "
      ]
     },
     "execution_count": 28,
     "metadata": {},
     "output_type": "execute_result"
    }
   ],
   "source": [
    "all_211_df.head(3)"
   ]
  },
  {
   "cell_type": "markdown",
   "metadata": {},
   "source": [
    "The combination of needs & classifications are used by 211 operators to help match callers with the outreach service they need depending on their specific problem. You can read more about the 211 request line at [this website](https://www.211.org/about-us/our-impact).\n",
    "\n",
    "There are **1,321** categories of needs. Some examples are \"Food pantries\", \"Soup kitchens\", \"Elder law\", and \"Smoke alarms\". Needs are the top level classification and represent a category\n",
    "\n",
    "\n",
    "For this analysis i'll use the `needs category` field and slice it by gender, age range, when the request was created, the zipcode of the area that the request was made from, and if the need was met and hopefully be able to answer the question - **Which areas are getting proper help with their needs and which areas might need more or better outreach programs?** Being able to identify trends in areas means that volunteer programs can proactively do outreach to help folks before they experience a pressing need. \n"
   ]
  },
  {
   "cell_type": "markdown",
   "metadata": {},
   "source": [
    "## How many requests are we working with?\n",
    "\n",
    "For this analysis I only want to count requests from Allegheny County, Pennsylvania. There are **156,804** total 211 requests in the WPRDC dataset and **92,300** were made from Allegheny County, Pennsylvania. \n",
    "\n",
    "Going forward I just want to analyze these results so i'm going to create a new dataframe with only rows that have `county == \"Allegheny County`."
   ]
  },
  {
   "cell_type": "code",
   "execution_count": 29,
   "metadata": {},
   "outputs": [],
   "source": [
    "allegheny_df = all_211_df[all_211_df[\"county\"] == \"Allegheny County\"]"
   ]
  },
  {
   "cell_type": "markdown",
   "metadata": {},
   "source": [
    "## What are the top 10 requests (all time)?\n",
    "\n",
    "\n",
    "The top request to date is **Covid-19 Control** with a total of **14,951 requests**, but if you include the third result of **COVID-19 Immunization Clinics** the total of Covid related requests is actually **19,737**. \n",
    "\n",
    "Out of the total amount of top 10 requests (55,149) Covid related requests make up **~36%**. The earliest date in this dataset for a request is January 1st, 2020 so it's hard to say what the requests trends might be in a non-pandemic world, but this is something that can be looked at in the future. "
   ]
  },
  {
   "cell_type": "code",
   "execution_count": 30,
   "metadata": {},
   "outputs": [
    {
     "data": {
      "image/png": "[encoded data removed]",
      "text/plain": [
       "<Figure size 936x360 with 1 Axes>"
      ]
     },
     "metadata": {
      "needs_background": "light"
     },
     "output_type": "display_data"
    }
   ],
   "source": [
    "top_10_chart(allegheny_df)"
   ]
  },
  {
   "cell_type": "markdown",
   "metadata": {},
   "source": [
    "# Requests by month"
   ]
  },
  {
   "cell_type": "code",
   "execution_count": 34,
   "metadata": {},
   "outputs": [
    {
     "data": {
      "image/png": "[encoded data removed]",
      "text/plain": [
       "<Figure size 936x360 with 1 Axes>"
      ]
     },
     "metadata": {
      "needs_background": "light"
     },
     "output_type": "display_data"
    }
   ],
   "source": [
    "show_month_count_chart(allegheny_df)"
   ]
  },
  {
   "cell_type": "markdown",
   "metadata": {},
   "source": [
    "Placeholder for words "
   ]
  },
  {
   "cell_type": "markdown",
   "metadata": {},
   "source": [
    "## Count of requests by zipcode "
   ]
  },
  {
   "cell_type": "code",
   "execution_count": 37,
   "metadata": {},
   "outputs": [
    {
     "ename": "IndentationError",
     "evalue": "unindent does not match any outer indentation level (<tokenize>, line 10)",
     "output_type": "error",
     "traceback": [
      "\u001b[0;36m  File \u001b[0;32m\"<tokenize>\"\u001b[0;36m, line \u001b[0;32m10\u001b[0m\n\u001b[0;31m    ax.set_xlabel(\"Zip\")\u001b[0m\n\u001b[0m    ^\u001b[0m\n\u001b[0;31mIndentationError\u001b[0m\u001b[0;31m:\u001b[0m unindent does not match any outer indentation level\n"
     ]
    }
   ],
   "source": [
    "def show_zipcode_counts(dataframe):\n",
    "    zipcode_counts = dataframe.groupby(\"zip_code\")[\"contact_date\"].count()\n",
    "    \n",
    "    ax = zipcode_counts.plot(kind=\"bar\", \n",
    "                           color=\"organge\", \n",
    "                           figsize=(13,5), \n",
    "                           title=\"Count of Requests by Zipcode\", \n",
    "                           grid=True)\n",
    "                          \n",
    "    ax.set_xlabel(\"Zip\")\n",
    "    ax.set_ylabel(\"Num. Requests\")\n",
    "    \n",
    "show_zipcode_counts(allegheny_df)"
   ]
  },
  {
   "cell_type": "code",
   "execution_count": null,
   "metadata": {},
   "outputs": [],
   "source": []
  }
 ],
 "metadata": {
  "kernelspec": {
   "display_name": "Python 3",
   "language": "python",
   "name": "python3"
  },
  "language_info": {
   "codemirror_mode": {
    "name": "ipython",
    "version": 3
   },
   "file_extension": ".py",
   "mimetype": "text/x-python",
   "name": "python",
   "nbconvert_exporter": "python",
   "pygments_lexer": "ipython3",
   "version": "3.8.3"
  }
 },
 "nbformat": 4,
 "nbformat_minor": 4
}
